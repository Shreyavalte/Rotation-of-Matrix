{
 "cells": [
  {
   "cell_type": "code",
   "execution_count": 2,
   "id": "e7a16389",
   "metadata": {},
   "outputs": [
    {
     "name": "stdout",
     "output_type": "stream",
     "text": [
      "[13, 9, 5, 1]\n",
      "[14, 10, 6, 2]\n",
      "[15, 11, 7, 3]\n",
      "[16, 12, 8, 4]\n"
     ]
    }
   ],
   "source": [
    "# Function to rotate the matrix\n",
    "# 90 degree clockwise\n",
    "def rotate90Clockwise(A):\n",
    "\tN = len(A[0])\n",
    "\tfor i in range(N // 2):\n",
    "\t\tfor j in range(i, N - i - 1):\n",
    "\t\t\ttemp = A[i][j]\n",
    "\t\t\tA[i][j] = A[N - 1 - j][i]\n",
    "\t\t\tA[N - 1 - j][i] = A[N - 1 - i][N - 1 - j]\n",
    "\t\t\tA[N - 1 - i][N - 1 - j] = A[j][N - 1 - i]\n",
    "\t\t\tA[j][N - 1 - i] = temp\n",
    "\n",
    "# Function to print the matrix\n",
    "def printMatrix(A):\n",
    "\tN = len(A[0])\n",
    "\tfor i in range(N):\n",
    "\t\tprint(A[i])\n",
    "\n",
    "# Driver code\n",
    "A = [[1, 2, 3, 4],\n",
    "\t[5, 6, 7, 8],\n",
    "\t[9, 10, 11, 12],\n",
    "\t[13, 14, 15, 16]]\n",
    "rotate90Clockwise(A)\n",
    "printMatrix(A)\n",
    "\n",
    "# This code was contributed\n",
    "# by pk_tautolo\n"
   ]
  },
  {
   "cell_type": "code",
   "execution_count": null,
   "id": "c73551e8",
   "metadata": {},
   "outputs": [],
   "source": []
  },
  {
   "cell_type": "code",
   "execution_count": null,
   "id": "7e159393",
   "metadata": {},
   "outputs": [],
   "source": []
  }
 ],
 "metadata": {
  "kernelspec": {
   "display_name": "Python 3 (ipykernel)",
   "language": "python",
   "name": "python3"
  },
  "language_info": {
   "codemirror_mode": {
    "name": "ipython",
    "version": 3
   },
   "file_extension": ".py",
   "mimetype": "text/x-python",
   "name": "python",
   "nbconvert_exporter": "python",
   "pygments_lexer": "ipython3",
   "version": "3.9.7"
  }
 },
 "nbformat": 4,
 "nbformat_minor": 5
}
